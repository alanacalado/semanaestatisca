{
 "cells": [
  {
   "cell_type": "code",
   "execution_count": 1,
   "metadata": {},
   "outputs": [
    {
     "name": "stdout",
     "output_type": "stream",
     "text": [
      "['False', 'None', 'True', 'and', 'as', 'assert', 'async', 'await', 'break', 'class', 'continue', 'def', 'del', 'elif', 'else', 'except', 'finally', 'for', 'from', 'global', 'if', 'import', 'in', 'is', 'lambda', 'nonlocal', 'not', 'or', 'pass', 'raise', 'return', 'try', 'while', 'with', 'yield']\n"
     ]
    }
   ],
   "source": [
    "import keyword\n",
    "print(keyword.kwlist)"
   ]
  },
  {
   "cell_type": "code",
   "execution_count": 2,
   "metadata": {},
   "outputs": [
    {
     "name": "stdout",
     "output_type": "stream",
     "text": [
      "<class 'int'>\n",
      "<class 'complex'>\n"
     ]
    }
   ],
   "source": [
    "# O que é uma variável\n",
    "\n",
    "\"\"\"\n",
    "É um espaço reservado na memória do computador. O padrão para variável é o snake_case. A variável não pode ser declarada com nome de palavra reservada\n",
    "\"\"\"\n",
    "\"\"\"\n",
    "tipo: dinâmica e forte\n",
    "\"\"\"\n",
    "\n",
    "x = 10\n",
    "print(type(x))\n",
    "y = 3j\n",
    "print(type(y))"
   ]
  },
  {
   "cell_type": "markdown",
   "metadata": {},
   "source": [
    "# 5 partes\n",
    "# 1 parte\n",
    "# 1/5 - numerador 1, "
   ]
  },
  {
   "cell_type": "markdown",
   "metadata": {},
   "source": [
    "# Exercício - revisão\n",
    "\"\"'\n",
    "    Qual é a sua altura?\n",
    "    Qual é o seu peso ?\n",
    "    Qual o seu IMC?\n",
    "\n",
    "    funções(mundo é baseado em funções)\n",
    "    IMC = peso/altura²\n",
    "\"\"\""
   ]
  },
  {
   "cell_type": "code",
   "execution_count": 10,
   "metadata": {},
   "outputs": [
    {
     "name": "stdout",
     "output_type": "stream",
     "text": [
      "Seu IMC é : 12.49 \n",
      "Você está abaixo do peso.\n"
     ]
    }
   ],
   "source": [
    "#função lambda para calcular IMC \n",
    "calcular_imc = lambda peso, altura: peso / pow(altura,2)\n",
    "\n",
    "altura = float(input('Informe sua altura : '))\n",
    "peso = float(input('Informe seu peso: '))\n",
    "imc= calcular_imc(peso,altura)\n",
    "# Calculo IMC\n",
    "print(f'Seu IMC é : {imc:.2f} ')\n",
    "\n",
    "classificação= (\"abaixo do peso\" if imc < 18.5 else\n",
    "                \"com peso normal\" if imc < 24.9 else\n",
    "                \"com Sobrepeso\" if imc < 29.9 else\n",
    "                \"com obesidade\" )\n",
    "print(f\"Você está {classificação}.\")\n",
    "                "
   ]
  }
 ],
 "metadata": {
  "kernelspec": {
   "display_name": "venv",
   "language": "python",
   "name": "python3"
  },
  "language_info": {
   "codemirror_mode": {
    "name": "ipython",
    "version": 3
   },
   "file_extension": ".py",
   "mimetype": "text/x-python",
   "name": "python",
   "nbconvert_exporter": "python",
   "pygments_lexer": "ipython3",
   "version": "3.12.5"
  }
 },
 "nbformat": 4,
 "nbformat_minor": 2
}
